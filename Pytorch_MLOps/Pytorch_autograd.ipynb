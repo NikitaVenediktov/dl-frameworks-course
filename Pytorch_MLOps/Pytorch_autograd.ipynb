{
  "cells": [
    {
      "cell_type": "code",
      "execution_count": null,
      "metadata": {
        "id": "Wfx0vkHQVjyt"
      },
      "outputs": [],
      "source": [
        "%matplotlib inline"
      ]
    },
    {
      "cell_type": "code",
      "source": [
        "!pip install torchvision\n",
        "!pip install tensorrt"
      ],
      "metadata": {
        "colab": {
          "base_uri": "https://localhost:8080/"
        },
        "id": "FJUsQQ2VTm6F",
        "outputId": "df8ef0fb-e31d-4537-cb2d-f6c75a630fb6"
      },
      "execution_count": null,
      "outputs": [
        {
          "output_type": "stream",
          "name": "stdout",
          "text": [
            "Looking in indexes: https://pypi.org/simple, https://us-python.pkg.dev/colab-wheels/public/simple/\n",
            "Requirement already satisfied: torchvision in /usr/local/lib/python3.10/dist-packages (0.15.2+cu118)\n",
            "Requirement already satisfied: numpy in /usr/local/lib/python3.10/dist-packages (from torchvision) (1.22.4)\n",
            "Requirement already satisfied: requests in /usr/local/lib/python3.10/dist-packages (from torchvision) (2.27.1)\n",
            "Requirement already satisfied: torch==2.0.1 in /usr/local/lib/python3.10/dist-packages (from torchvision) (2.0.1+cu118)\n",
            "Requirement already satisfied: pillow!=8.3.*,>=5.3.0 in /usr/local/lib/python3.10/dist-packages (from torchvision) (8.4.0)\n",
            "Requirement already satisfied: filelock in /usr/local/lib/python3.10/dist-packages (from torch==2.0.1->torchvision) (3.12.0)\n",
            "Requirement already satisfied: typing-extensions in /usr/local/lib/python3.10/dist-packages (from torch==2.0.1->torchvision) (4.5.0)\n",
            "Requirement already satisfied: sympy in /usr/local/lib/python3.10/dist-packages (from torch==2.0.1->torchvision) (1.11.1)\n",
            "Requirement already satisfied: networkx in /usr/local/lib/python3.10/dist-packages (from torch==2.0.1->torchvision) (3.1)\n",
            "Requirement already satisfied: jinja2 in /usr/local/lib/python3.10/dist-packages (from torch==2.0.1->torchvision) (3.1.2)\n",
            "Requirement already satisfied: triton==2.0.0 in /usr/local/lib/python3.10/dist-packages (from torch==2.0.1->torchvision) (2.0.0)\n",
            "Requirement already satisfied: cmake in /usr/local/lib/python3.10/dist-packages (from triton==2.0.0->torch==2.0.1->torchvision) (3.25.2)\n",
            "Requirement already satisfied: lit in /usr/local/lib/python3.10/dist-packages (from triton==2.0.0->torch==2.0.1->torchvision) (16.0.5)\n",
            "Requirement already satisfied: urllib3<1.27,>=1.21.1 in /usr/local/lib/python3.10/dist-packages (from requests->torchvision) (1.26.15)\n",
            "Requirement already satisfied: certifi>=2017.4.17 in /usr/local/lib/python3.10/dist-packages (from requests->torchvision) (2022.12.7)\n",
            "Requirement already satisfied: charset-normalizer~=2.0.0 in /usr/local/lib/python3.10/dist-packages (from requests->torchvision) (2.0.12)\n",
            "Requirement already satisfied: idna<4,>=2.5 in /usr/local/lib/python3.10/dist-packages (from requests->torchvision) (3.4)\n",
            "Requirement already satisfied: MarkupSafe>=2.0 in /usr/local/lib/python3.10/dist-packages (from jinja2->torch==2.0.1->torchvision) (2.1.2)\n",
            "Requirement already satisfied: mpmath>=0.19 in /usr/local/lib/python3.10/dist-packages (from sympy->torch==2.0.1->torchvision) (1.3.0)\n",
            "Looking in indexes: https://pypi.org/simple, https://us-python.pkg.dev/colab-wheels/public/simple/\n",
            "Collecting tensorrt\n",
            "  Downloading tensorrt-8.6.1.tar.gz (16 kB)\n",
            "  Preparing metadata (setup.py) ... \u001b[?25l\u001b[?25hdone\n",
            "Building wheels for collected packages: tensorrt\n",
            "  Building wheel for tensorrt (setup.py) ... \u001b[?25l\u001b[?25hdone\n",
            "  Created wheel for tensorrt: filename=tensorrt-8.6.1-py2.py3-none-any.whl size=16973 sha256=07593c7868cc3d180d70dd64818284e5c6b4886d39c6c4a2e3fba84353520346\n",
            "  Stored in directory: /root/.cache/pip/wheels/6d/29/56/abdffd4c604f255b5254bef3f1c598ab7811ea020540599438\n",
            "Successfully built tensorrt\n",
            "Installing collected packages: tensorrt\n",
            "Successfully installed tensorrt-8.6.1\n"
          ]
        }
      ]
    },
    {
      "cell_type": "code",
      "execution_count": null,
      "metadata": {
        "id": "RAsA4jkCVjyx",
        "colab": {
          "base_uri": "https://localhost:8080/"
        },
        "outputId": "ea190de3-e4e1-403a-e375-0a8df802a654"
      },
      "outputs": [
        {
          "output_type": "stream",
          "name": "stderr",
          "text": [
            "Downloading: \"https://download.pytorch.org/models/resnet18-f37072fd.pth\" to /root/.cache/torch/hub/checkpoints/resnet18-f37072fd.pth\n",
            "100%|██████████| 44.7M/44.7M [00:00<00:00, 105MB/s]\n"
          ]
        }
      ],
      "source": [
        "import torch\n",
        "from torchvision.models import resnet18, ResNet18_Weights\n",
        "model = resnet18(weights=ResNet18_Weights.DEFAULT)\n",
        "data = torch.rand(1, 3, 64, 64)\n",
        "labels = torch.rand(1, 1000)"
      ]
    },
    {
      "cell_type": "code",
      "execution_count": null,
      "metadata": {
        "id": "Q2pQuax6Vjy0"
      },
      "outputs": [],
      "source": [
        "prediction = model(data) # forward pass"
      ]
    },
    {
      "cell_type": "code",
      "execution_count": null,
      "metadata": {
        "id": "cykp2fIKVjy2"
      },
      "outputs": [],
      "source": [
        "loss = (prediction - labels).sum()\n",
        "loss.backward() # backward pass"
      ]
    },
    {
      "cell_type": "code",
      "execution_count": null,
      "metadata": {
        "id": "WyuXsdSiVjy4"
      },
      "outputs": [],
      "source": [
        "optim = torch.optim.SGD(model.parameters(), lr=1e-2, momentum=0.9)"
      ]
    },
    {
      "cell_type": "code",
      "execution_count": null,
      "metadata": {
        "id": "tJpxL_I9Vjy5"
      },
      "outputs": [],
      "source": [
        "optim.step() #gradient descent"
      ]
    },
    {
      "cell_type": "markdown",
      "metadata": {
        "id": "KMN-KptqVjy7"
      },
      "source": [
        "--------------\n",
        "\n",
        "\n"
      ]
    },
    {
      "cell_type": "markdown",
      "metadata": {
        "id": "ktXRAQi7Vjy7"
      },
      "source": [
        "## Differentiation in Autograd\n",
        "Let's take a look at how ``autograd`` collects gradients. We create two tensors ``a`` and ``b`` with\n",
        "``requires_grad=True``. This signals to ``autograd`` that every operation on them should be tracked.\n",
        "\n",
        "\n"
      ]
    },
    {
      "cell_type": "code",
      "execution_count": null,
      "metadata": {
        "id": "id3QWSJVVjy7"
      },
      "outputs": [],
      "source": [
        "import torch\n",
        "\n",
        "a = torch.tensor([2., 3.], requires_grad=True)\n",
        "b = torch.tensor([6., 4.], requires_grad=True)"
      ]
    },
    {
      "cell_type": "markdown",
      "metadata": {
        "id": "4dqwmVUFVjy8"
      },
      "source": [
        "We create another tensor ``Q`` from ``a`` and ``b``.\n",
        "\n",
        "\\begin{align}Q = 3a^3 - b^2\\end{align}\n",
        "\n"
      ]
    },
    {
      "cell_type": "code",
      "execution_count": null,
      "metadata": {
        "id": "MCgztMT6Vjy8"
      },
      "outputs": [],
      "source": [
        "Q = 3*a**3 - b**2"
      ]
    },
    {
      "cell_type": "markdown",
      "metadata": {
        "id": "eNV8gNvwVjy9"
      },
      "source": [
        "Let's assume ``a`` and ``b`` to be parameters of an NN, and ``Q``\n",
        "to be the error. In NN training, we want gradients of the error\n",
        "w.r.t. parameters, i.e.\n",
        "\n",
        "\\begin{align}\\frac{\\partial Q}{\\partial a} = 9a^2\\end{align}\n",
        "\n",
        "\\begin{align}\\frac{\\partial Q}{\\partial b} = -2b\\end{align}\n",
        "\n",
        "\n",
        "When we call ``.backward()`` on ``Q``, autograd calculates these gradients\n",
        "and stores them in the respective tensors' ``.grad`` attribute.\n",
        "\n",
        "We need to explicitly pass a ``gradient`` argument in ``Q.backward()`` because it is a vector.\n",
        "``gradient`` is a tensor of the same shape as ``Q``, and it represents the\n",
        "gradient of Q w.r.t. itself, i.e.\n",
        "\n",
        "\\begin{align}\\frac{dQ}{dQ} = 1\\end{align}\n",
        "\n",
        "Equivalently, we can also aggregate Q into a scalar and call backward implicitly, like ``Q.sum().backward()``.\n",
        "\n",
        "\n"
      ]
    },
    {
      "cell_type": "code",
      "execution_count": null,
      "metadata": {
        "id": "7eoNL6ZSVjy9"
      },
      "outputs": [],
      "source": [
        "external_grad = torch.tensor([1., 1.])\n",
        "Q.backward(gradient=external_grad)"
      ]
    },
    {
      "cell_type": "markdown",
      "metadata": {
        "id": "dXbRviaWVjy9"
      },
      "source": [
        "Gradients are now deposited in ``a.grad`` and ``b.grad``\n",
        "\n"
      ]
    },
    {
      "cell_type": "code",
      "execution_count": null,
      "metadata": {
        "id": "gznhqiZUVjy-",
        "colab": {
          "base_uri": "https://localhost:8080/"
        },
        "outputId": "9f1872c4-5b52-4905-aacd-f5465606f012"
      },
      "outputs": [
        {
          "output_type": "stream",
          "name": "stdout",
          "text": [
            "tensor([True, True])\n",
            "tensor([True, True])\n"
          ]
        }
      ],
      "source": [
        "# check if collected gradients are correct\n",
        "print(9*a**2 == a.grad)\n",
        "print(-2*b == b.grad)"
      ]
    },
    {
      "cell_type": "markdown",
      "metadata": {
        "id": "lxdTYXD6Vjy-"
      },
      "source": [
        "### Vector Calculus using ``autograd``\n",
        "\n",
        "Mathematically, if you have a vector valued function\n",
        "$\\vec{y}=f(\\vec{x})$, then the gradient of $\\vec{y}$ with\n",
        "respect to $\\vec{x}$ is a Jacobian matrix $J$:\n",
        "\n",
        "\\begin{align}J\n",
        "     =\n",
        "      \\left(\\begin{array}{cc}\n",
        "      \\frac{\\partial \\bf{y}}{\\partial x_{1}} &\n",
        "      ... &\n",
        "      \\frac{\\partial \\bf{y}}{\\partial x_{n}}\n",
        "      \\end{array}\\right)\n",
        "     =\n",
        "     \\left(\\begin{array}{ccc}\n",
        "      \\frac{\\partial y_{1}}{\\partial x_{1}} & \\cdots & \\frac{\\partial y_{1}}{\\partial x_{n}}\\\\\n",
        "      \\vdots & \\ddots & \\vdots\\\\\n",
        "      \\frac{\\partial y_{m}}{\\partial x_{1}} & \\cdots & \\frac{\\partial y_{m}}{\\partial x_{n}}\n",
        "      \\end{array}\\right)\\end{align}\n",
        "\n",
        "Generally speaking, ``torch.autograd`` is an engine for computing\n",
        "vector-Jacobian product. That is, given any vector $\\vec{v}$, compute the product\n",
        "$J^{T}\\cdot \\vec{v}$\n",
        "\n",
        "If $\\vec{v}$ happens to be the gradient of a scalar function $l=g\\left(\\vec{y}\\right)$:\n",
        "\n",
        "\\begin{align}\\vec{v}\n",
        "   =\n",
        "   \\left(\\begin{array}{ccc}\\frac{\\partial l}{\\partial y_{1}} & \\cdots & \\frac{\\partial l}{\\partial y_{m}}\\end{array}\\right)^{T}\\end{align}\n",
        "\n",
        "then by the chain rule, the vector-Jacobian product would be the\n",
        "gradient of $l$ with respect to $\\vec{x}$:\n",
        "\n",
        "\\begin{align}J^{T}\\cdot \\vec{v}=\\left(\\begin{array}{ccc}\n",
        "      \\frac{\\partial y_{1}}{\\partial x_{1}} & \\cdots & \\frac{\\partial y_{m}}{\\partial x_{1}}\\\\\n",
        "      \\vdots & \\ddots & \\vdots\\\\\n",
        "      \\frac{\\partial y_{1}}{\\partial x_{n}} & \\cdots & \\frac{\\partial y_{m}}{\\partial x_{n}}\n",
        "      \\end{array}\\right)\\left(\\begin{array}{c}\n",
        "      \\frac{\\partial l}{\\partial y_{1}}\\\\\n",
        "      \\vdots\\\\\n",
        "      \\frac{\\partial l}{\\partial y_{m}}\n",
        "      \\end{array}\\right)=\\left(\\begin{array}{c}\n",
        "      \\frac{\\partial l}{\\partial x_{1}}\\\\\n",
        "      \\vdots\\\\\n",
        "      \\frac{\\partial l}{\\partial x_{n}}\n",
        "      \\end{array}\\right)\\end{align}\n",
        "\n",
        "This characteristic of vector-Jacobian product is what we use in the above example;\n",
        "``external_grad`` represents $\\vec{v}$.\n",
        "\n",
        "\n"
      ]
    },
    {
      "cell_type": "markdown",
      "metadata": {
        "id": "q4syA19XVjy-"
      },
      "source": [
        "## Computational Graph\n",
        "\n",
        "Conceptually, autograd keeps a record of data (tensors) & all executed\n",
        "operations (along with the resulting new tensors) in a directed acyclic\n",
        "graph (DAG) consisting of\n",
        "[Function](https://pytorch.org/docs/stable/autograd.html#torch.autograd.Function)_\n",
        "objects. In this DAG, leaves are the input tensors, roots are the output\n",
        "tensors. By tracing this graph from roots to leaves, you can\n",
        "automatically compute the gradients using the chain rule.\n",
        "\n",
        "In a forward pass, autograd does two things simultaneously:\n",
        "\n",
        "- run the requested operation to compute a resulting tensor, and\n",
        "- maintain the operation’s *gradient function* in the DAG.\n",
        "\n",
        "The backward pass kicks off when ``.backward()`` is called on the DAG\n",
        "root. ``autograd`` then:\n",
        "\n",
        "- computes the gradients from each ``.grad_fn``,\n",
        "- accumulates them in the respective tensor’s ``.grad`` attribute, and\n",
        "- using the chain rule, propagates all the way to the leaf tensors.\n",
        "\n",
        "\n",
        "<div class=\"alert alert-info\"><h4>Note</h4><p>**DAGs are dynamic in PyTorch**\n",
        "  An important thing to note is that the graph is recreated from scratch; after each\n",
        "  ``.backward()`` call, autograd starts populating a new graph. This is\n",
        "  exactly what allows you to use control flow statements in your model;\n",
        "  you can change the shape, size and operations at every iteration if\n",
        "  needed.</p></div>\n",
        "\n",
        "### Exclusion from the DAG\n",
        "\n",
        "``torch.autograd`` tracks operations on all tensors which have their\n",
        "``requires_grad`` flag set to ``True``. For tensors that don’t require\n",
        "gradients, setting this attribute to ``False`` excludes it from the\n",
        "gradient computation DAG.\n",
        "\n",
        "The output tensor of an operation will require gradients even if only a\n",
        "single input tensor has ``requires_grad=True``.\n",
        "\n",
        "\n"
      ]
    },
    {
      "cell_type": "code",
      "execution_count": null,
      "metadata": {
        "id": "Ilb_yQk-Vjy_",
        "colab": {
          "base_uri": "https://localhost:8080/"
        },
        "outputId": "ca7d36b9-2dc6-4fd3-8a9c-9debe7d66e6f"
      },
      "outputs": [
        {
          "output_type": "stream",
          "name": "stdout",
          "text": [
            "Does `a` require gradients? : False\n",
            "Does `b` require gradients?: True\n"
          ]
        }
      ],
      "source": [
        "x = torch.rand(5, 5)\n",
        "y = torch.rand(5, 5)\n",
        "z = torch.rand((5, 5), requires_grad=True)\n",
        "\n",
        "a = x + y\n",
        "print(f\"Does `a` require gradients? : {a.requires_grad}\")\n",
        "b = x + z\n",
        "print(f\"Does `b` require gradients?: {b.requires_grad}\")"
      ]
    },
    {
      "cell_type": "code",
      "source": [
        "import torch\n",
        "from torch import nn\n",
        "%pip install -U git+https://github.com/szagoruyko/pytorchviz.git@master\n",
        "from torchviz import make_dot, make_dot_from_trace"
      ],
      "metadata": {
        "colab": {
          "base_uri": "https://localhost:8080/"
        },
        "id": "_smogm7UUeGo",
        "outputId": "00492163-99d5-404f-c192-923240322a40"
      },
      "execution_count": null,
      "outputs": [
        {
          "output_type": "stream",
          "name": "stdout",
          "text": [
            "Looking in indexes: https://pypi.org/simple, https://us-python.pkg.dev/colab-wheels/public/simple/\n",
            "Collecting git+https://github.com/szagoruyko/pytorchviz.git@master\n",
            "  Cloning https://github.com/szagoruyko/pytorchviz.git (to revision master) to /tmp/pip-req-build-86x87q9k\n",
            "  Running command git clone --filter=blob:none --quiet https://github.com/szagoruyko/pytorchviz.git /tmp/pip-req-build-86x87q9k\n",
            "  Resolved https://github.com/szagoruyko/pytorchviz.git to commit 0adcd83af8aa7ab36d6afd139cabbd9df598edb7\n",
            "  Preparing metadata (setup.py) ... \u001b[?25l\u001b[?25hdone\n",
            "Requirement already satisfied: torch in /usr/local/lib/python3.10/dist-packages (from torchviz==0.0.2) (2.0.1+cu118)\n",
            "Requirement already satisfied: graphviz in /usr/local/lib/python3.10/dist-packages (from torchviz==0.0.2) (0.20.1)\n",
            "Requirement already satisfied: filelock in /usr/local/lib/python3.10/dist-packages (from torch->torchviz==0.0.2) (3.12.0)\n",
            "Requirement already satisfied: typing-extensions in /usr/local/lib/python3.10/dist-packages (from torch->torchviz==0.0.2) (4.5.0)\n",
            "Requirement already satisfied: sympy in /usr/local/lib/python3.10/dist-packages (from torch->torchviz==0.0.2) (1.11.1)\n",
            "Requirement already satisfied: networkx in /usr/local/lib/python3.10/dist-packages (from torch->torchviz==0.0.2) (3.1)\n",
            "Requirement already satisfied: jinja2 in /usr/local/lib/python3.10/dist-packages (from torch->torchviz==0.0.2) (3.1.2)\n",
            "Requirement already satisfied: triton==2.0.0 in /usr/local/lib/python3.10/dist-packages (from torch->torchviz==0.0.2) (2.0.0)\n",
            "Requirement already satisfied: cmake in /usr/local/lib/python3.10/dist-packages (from triton==2.0.0->torch->torchviz==0.0.2) (3.25.2)\n",
            "Requirement already satisfied: lit in /usr/local/lib/python3.10/dist-packages (from triton==2.0.0->torch->torchviz==0.0.2) (16.0.5)\n",
            "Requirement already satisfied: MarkupSafe>=2.0 in /usr/local/lib/python3.10/dist-packages (from jinja2->torch->torchviz==0.0.2) (2.1.2)\n",
            "Requirement already satisfied: mpmath>=0.19 in /usr/local/lib/python3.10/dist-packages (from sympy->torch->torchviz==0.0.2) (1.3.0)\n",
            "Building wheels for collected packages: torchviz\n",
            "  Building wheel for torchviz (setup.py) ... \u001b[?25l\u001b[?25hdone\n",
            "  Created wheel for torchviz: filename=torchviz-0.0.2-py3-none-any.whl size=4972 sha256=c91c1877de43c28a1d26741ea96e17ba247b1b18ba736d5ac8dbfd1bcac21c9d\n",
            "  Stored in directory: /tmp/pip-ephem-wheel-cache-uo5g7ibm/wheels/97/11/17/d09e895f9883bd50923ce86b249a31790356a1b88b280983d8\n",
            "Successfully built torchviz\n",
            "Installing collected packages: torchviz\n",
            "Successfully installed torchviz-0.0.2\n"
          ]
        }
      ]
    },
    {
      "cell_type": "code",
      "source": [
        "model = nn.Sequential()\n",
        "model.add_module('W0', nn.Linear(8, 16))\n",
        "model.add_module('tanh', nn.Tanh())\n",
        "model.add_module('W1', nn.Linear(16, 1))\n",
        "\n",
        "x = torch.randn(1,8)\n",
        "\n",
        "make_dot(model(x), params=dict(model.named_parameters()))"
      ],
      "metadata": {
        "colab": {
          "base_uri": "https://localhost:8080/",
          "height": 572
        },
        "id": "7cVVZz0iUkbR",
        "outputId": "f7d6db85-30de-48bb-b296-d757c9c74bdd"
      },
      "execution_count": null,
      "outputs": [
        {
          "output_type": "execute_result",
          "data": {
            "image/svg+xml": "<?xml version=\"1.0\" encoding=\"UTF-8\" standalone=\"no\"?>\n<!DOCTYPE svg PUBLIC \"-//W3C//DTD SVG 1.1//EN\"\n \"http://www.w3.org/Graphics/SVG/1.1/DTD/svg11.dtd\">\n<!-- Generated by graphviz version 2.43.0 (0)\n -->\n<!-- Title: %3 Pages: 1 -->\n<svg width=\"340pt\" height=\"413pt\"\n viewBox=\"0.00 0.00 340.00 413.00\" xmlns=\"http://www.w3.org/2000/svg\" xmlns:xlink=\"http://www.w3.org/1999/xlink\">\n<g id=\"graph0\" class=\"graph\" transform=\"scale(1 1) rotate(0) translate(4 409)\">\n<title>%3</title>\n<polygon fill=\"white\" stroke=\"transparent\" points=\"-4,4 -4,-409 336,-409 336,4 -4,4\"/>\n<!-- 140251235884208 -->\n<g id=\"node1\" class=\"node\">\n<title>140251235884208</title>\n<polygon fill=\"#caff70\" stroke=\"black\" points=\"196,-31 137,-31 137,0 196,0 196,-31\"/>\n<text text-anchor=\"middle\" x=\"166.5\" y=\"-7\" font-family=\"monospace\" font-size=\"10.00\"> (1, 1)</text>\n</g>\n<!-- 140251238441904 -->\n<g id=\"node2\" class=\"node\">\n<title>140251238441904</title>\n<polygon fill=\"lightgrey\" stroke=\"black\" points=\"217,-86 116,-86 116,-67 217,-67 217,-86\"/>\n<text text-anchor=\"middle\" x=\"166.5\" y=\"-74\" font-family=\"monospace\" font-size=\"10.00\">AddmmBackward0</text>\n</g>\n<!-- 140251238441904&#45;&gt;140251235884208 -->\n<g id=\"edge13\" class=\"edge\">\n<title>140251238441904&#45;&gt;140251235884208</title>\n<path fill=\"none\" stroke=\"black\" d=\"M166.5,-66.79C166.5,-60.07 166.5,-50.4 166.5,-41.34\"/>\n<polygon fill=\"black\" stroke=\"black\" points=\"170,-41.19 166.5,-31.19 163,-41.19 170,-41.19\"/>\n</g>\n<!-- 140251238440800 -->\n<g id=\"node3\" class=\"node\">\n<title>140251238440800</title>\n<polygon fill=\"lightgrey\" stroke=\"black\" points=\"101,-141 0,-141 0,-122 101,-122 101,-141\"/>\n<text text-anchor=\"middle\" x=\"50.5\" y=\"-129\" font-family=\"monospace\" font-size=\"10.00\">AccumulateGrad</text>\n</g>\n<!-- 140251238440800&#45;&gt;140251238441904 -->\n<g id=\"edge1\" class=\"edge\">\n<title>140251238440800&#45;&gt;140251238441904</title>\n<path fill=\"none\" stroke=\"black\" d=\"M69.14,-121.98C87.8,-113.46 116.75,-100.23 138.24,-90.41\"/>\n<polygon fill=\"black\" stroke=\"black\" points=\"139.88,-93.51 147.52,-86.17 136.97,-87.14 139.88,-93.51\"/>\n</g>\n<!-- 140251235884768 -->\n<g id=\"node4\" class=\"node\">\n<title>140251235884768</title>\n<polygon fill=\"lightblue\" stroke=\"black\" points=\"80,-207 21,-207 21,-177 80,-177 80,-207\"/>\n<text text-anchor=\"middle\" x=\"50.5\" y=\"-195\" font-family=\"monospace\" font-size=\"10.00\">W1.bias</text>\n<text text-anchor=\"middle\" x=\"50.5\" y=\"-184\" font-family=\"monospace\" font-size=\"10.00\"> (1)</text>\n</g>\n<!-- 140251235884768&#45;&gt;140251238440800 -->\n<g id=\"edge2\" class=\"edge\">\n<title>140251235884768&#45;&gt;140251238440800</title>\n<path fill=\"none\" stroke=\"black\" d=\"M50.5,-176.84C50.5,-169.21 50.5,-159.7 50.5,-151.45\"/>\n<polygon fill=\"black\" stroke=\"black\" points=\"54,-151.27 50.5,-141.27 47,-151.27 54,-151.27\"/>\n</g>\n<!-- 140251238445456 -->\n<g id=\"node5\" class=\"node\">\n<title>140251238445456</title>\n<polygon fill=\"lightgrey\" stroke=\"black\" points=\"214,-141 119,-141 119,-122 214,-122 214,-141\"/>\n<text text-anchor=\"middle\" x=\"166.5\" y=\"-129\" font-family=\"monospace\" font-size=\"10.00\">TanhBackward0</text>\n</g>\n<!-- 140251238445456&#45;&gt;140251238441904 -->\n<g id=\"edge3\" class=\"edge\">\n<title>140251238445456&#45;&gt;140251238441904</title>\n<path fill=\"none\" stroke=\"black\" d=\"M166.5,-121.75C166.5,-114.8 166.5,-104.85 166.5,-96.13\"/>\n<polygon fill=\"black\" stroke=\"black\" points=\"170,-96.09 166.5,-86.09 163,-96.09 170,-96.09\"/>\n</g>\n<!-- 140251238445840 -->\n<g id=\"node6\" class=\"node\">\n<title>140251238445840</title>\n<polygon fill=\"lightgrey\" stroke=\"black\" points=\"213,-201.5 112,-201.5 112,-182.5 213,-182.5 213,-201.5\"/>\n<text text-anchor=\"middle\" x=\"162.5\" y=\"-189.5\" font-family=\"monospace\" font-size=\"10.00\">AddmmBackward0</text>\n</g>\n<!-- 140251238445840&#45;&gt;140251238445456 -->\n<g id=\"edge4\" class=\"edge\">\n<title>140251238445840&#45;&gt;140251238445456</title>\n<path fill=\"none\" stroke=\"black\" d=\"M163.09,-182.37C163.65,-174.25 164.5,-161.81 165.21,-151.39\"/>\n<polygon fill=\"black\" stroke=\"black\" points=\"168.72,-151.38 165.91,-141.17 161.73,-150.91 168.72,-151.38\"/>\n</g>\n<!-- 140251238441088 -->\n<g id=\"node7\" class=\"node\">\n<title>140251238441088</title>\n<polygon fill=\"lightgrey\" stroke=\"black\" points=\"119,-267.5 18,-267.5 18,-248.5 119,-248.5 119,-267.5\"/>\n<text text-anchor=\"middle\" x=\"68.5\" y=\"-255.5\" font-family=\"monospace\" font-size=\"10.00\">AccumulateGrad</text>\n</g>\n<!-- 140251238441088&#45;&gt;140251238445840 -->\n<g id=\"edge5\" class=\"edge\">\n<title>140251238441088&#45;&gt;140251238445840</title>\n<path fill=\"none\" stroke=\"black\" d=\"M81.18,-248.37C96.59,-237.87 122.85,-220 141.35,-207.4\"/>\n<polygon fill=\"black\" stroke=\"black\" points=\"143.43,-210.22 149.72,-201.7 139.49,-204.43 143.43,-210.22\"/>\n</g>\n<!-- 140251235884848 -->\n<g id=\"node8\" class=\"node\">\n<title>140251235884848</title>\n<polygon fill=\"lightblue\" stroke=\"black\" points=\"98,-339 39,-339 39,-309 98,-309 98,-339\"/>\n<text text-anchor=\"middle\" x=\"68.5\" y=\"-327\" font-family=\"monospace\" font-size=\"10.00\">W0.bias</text>\n<text text-anchor=\"middle\" x=\"68.5\" y=\"-316\" font-family=\"monospace\" font-size=\"10.00\"> (16)</text>\n</g>\n<!-- 140251235884848&#45;&gt;140251238441088 -->\n<g id=\"edge6\" class=\"edge\">\n<title>140251235884848&#45;&gt;140251238441088</title>\n<path fill=\"none\" stroke=\"black\" d=\"M68.5,-308.8C68.5,-299.7 68.5,-287.79 68.5,-277.9\"/>\n<polygon fill=\"black\" stroke=\"black\" points=\"72,-277.84 68.5,-267.84 65,-277.84 72,-277.84\"/>\n</g>\n<!-- 140251238441040 -->\n<g id=\"node9\" class=\"node\">\n<title>140251238441040</title>\n<polygon fill=\"lightgrey\" stroke=\"black\" points=\"214,-267.5 137,-267.5 137,-248.5 214,-248.5 214,-267.5\"/>\n<text text-anchor=\"middle\" x=\"175.5\" y=\"-255.5\" font-family=\"monospace\" font-size=\"10.00\">TBackward0</text>\n</g>\n<!-- 140251238441040&#45;&gt;140251238445840 -->\n<g id=\"edge7\" class=\"edge\">\n<title>140251238441040&#45;&gt;140251238445840</title>\n<path fill=\"none\" stroke=\"black\" d=\"M173.75,-248.37C171.86,-239.07 168.79,-223.98 166.34,-211.9\"/>\n<polygon fill=\"black\" stroke=\"black\" points=\"169.73,-211.01 164.31,-201.91 162.87,-212.4 169.73,-211.01\"/>\n</g>\n<!-- 140251238446032 -->\n<g id=\"node10\" class=\"node\">\n<title>140251238446032</title>\n<polygon fill=\"lightgrey\" stroke=\"black\" points=\"226,-333.5 125,-333.5 125,-314.5 226,-314.5 226,-333.5\"/>\n<text text-anchor=\"middle\" x=\"175.5\" y=\"-321.5\" font-family=\"monospace\" font-size=\"10.00\">AccumulateGrad</text>\n</g>\n<!-- 140251238446032&#45;&gt;140251238441040 -->\n<g id=\"edge8\" class=\"edge\">\n<title>140251238446032&#45;&gt;140251238441040</title>\n<path fill=\"none\" stroke=\"black\" d=\"M175.5,-314.37C175.5,-305.16 175.5,-290.29 175.5,-278.27\"/>\n<polygon fill=\"black\" stroke=\"black\" points=\"179,-277.91 175.5,-267.91 172,-277.91 179,-277.91\"/>\n</g>\n<!-- 140251235884688 -->\n<g id=\"node11\" class=\"node\">\n<title>140251235884688</title>\n<polygon fill=\"lightblue\" stroke=\"black\" points=\"211,-405 140,-405 140,-375 211,-375 211,-405\"/>\n<text text-anchor=\"middle\" x=\"175.5\" y=\"-393\" font-family=\"monospace\" font-size=\"10.00\">W0.weight</text>\n<text text-anchor=\"middle\" x=\"175.5\" y=\"-382\" font-family=\"monospace\" font-size=\"10.00\"> (16, 8)</text>\n</g>\n<!-- 140251235884688&#45;&gt;140251238446032 -->\n<g id=\"edge9\" class=\"edge\">\n<title>140251235884688&#45;&gt;140251238446032</title>\n<path fill=\"none\" stroke=\"black\" d=\"M175.5,-374.8C175.5,-365.7 175.5,-353.79 175.5,-343.9\"/>\n<polygon fill=\"black\" stroke=\"black\" points=\"179,-343.84 175.5,-333.84 172,-343.84 179,-343.84\"/>\n</g>\n<!-- 140251238445792 -->\n<g id=\"node12\" class=\"node\">\n<title>140251238445792</title>\n<polygon fill=\"lightgrey\" stroke=\"black\" points=\"313,-141 236,-141 236,-122 313,-122 313,-141\"/>\n<text text-anchor=\"middle\" x=\"274.5\" y=\"-129\" font-family=\"monospace\" font-size=\"10.00\">TBackward0</text>\n</g>\n<!-- 140251238445792&#45;&gt;140251238441904 -->\n<g id=\"edge10\" class=\"edge\">\n<title>140251238445792&#45;&gt;140251238441904</title>\n<path fill=\"none\" stroke=\"black\" d=\"M257.15,-121.98C239.93,-113.54 213.3,-100.47 193.35,-90.68\"/>\n<polygon fill=\"black\" stroke=\"black\" points=\"194.69,-87.43 184.17,-86.17 191.6,-93.72 194.69,-87.43\"/>\n</g>\n<!-- 140251238447040 -->\n<g id=\"node13\" class=\"node\">\n<title>140251238447040</title>\n<polygon fill=\"lightgrey\" stroke=\"black\" points=\"332,-201.5 231,-201.5 231,-182.5 332,-182.5 332,-201.5\"/>\n<text text-anchor=\"middle\" x=\"281.5\" y=\"-189.5\" font-family=\"monospace\" font-size=\"10.00\">AccumulateGrad</text>\n</g>\n<!-- 140251238447040&#45;&gt;140251238445792 -->\n<g id=\"edge11\" class=\"edge\">\n<title>140251238447040&#45;&gt;140251238445792</title>\n<path fill=\"none\" stroke=\"black\" d=\"M280.47,-182.37C279.5,-174.25 278.01,-161.81 276.76,-151.39\"/>\n<polygon fill=\"black\" stroke=\"black\" points=\"280.2,-150.68 275.54,-141.17 273.25,-151.51 280.2,-150.68\"/>\n</g>\n<!-- 140251237965056 -->\n<g id=\"node14\" class=\"node\">\n<title>140251237965056</title>\n<polygon fill=\"lightblue\" stroke=\"black\" points=\"317,-273 246,-273 246,-243 317,-243 317,-273\"/>\n<text text-anchor=\"middle\" x=\"281.5\" y=\"-261\" font-family=\"monospace\" font-size=\"10.00\">W1.weight</text>\n<text text-anchor=\"middle\" x=\"281.5\" y=\"-250\" font-family=\"monospace\" font-size=\"10.00\"> (1, 16)</text>\n</g>\n<!-- 140251237965056&#45;&gt;140251238447040 -->\n<g id=\"edge12\" class=\"edge\">\n<title>140251237965056&#45;&gt;140251238447040</title>\n<path fill=\"none\" stroke=\"black\" d=\"M281.5,-242.8C281.5,-233.7 281.5,-221.79 281.5,-211.9\"/>\n<polygon fill=\"black\" stroke=\"black\" points=\"285,-211.84 281.5,-201.84 278,-211.84 285,-211.84\"/>\n</g>\n</g>\n</svg>\n",
            "text/plain": [
              "<graphviz.graphs.Digraph at 0x7f8ec93f1d20>"
            ]
          },
          "metadata": {},
          "execution_count": 11
        }
      ]
    },
    {
      "cell_type": "code",
      "source": [
        "x = torch.randn(1,8).requires_grad_(True)\n",
        "\n",
        "def double_backprop(inputs, net):\n",
        "    y = net(x).mean()\n",
        "    grad,  = torch.autograd.grad(y, x, create_graph=True, retain_graph=True)\n",
        "    return grad.pow(2).mean() + y\n",
        "\n",
        "make_dot(double_backprop(x, model), params=dict(list(model.named_parameters()) + [('x', x)]))"
      ],
      "metadata": {
        "colab": {
          "base_uri": "https://localhost:8080/",
          "height": 850
        },
        "id": "N8vT1ZfETcsi",
        "outputId": "147bc533-ae8b-47f0-b6a5-9fae702e698a"
      },
      "execution_count": null,
      "outputs": [
        {
          "output_type": "execute_result",
          "data": {
            "image/svg+xml": "<?xml version=\"1.0\" encoding=\"UTF-8\" standalone=\"no\"?>\n<!DOCTYPE svg PUBLIC \"-//W3C//DTD SVG 1.1//EN\"\n \"http://www.w3.org/Graphics/SVG/1.1/DTD/svg11.dtd\">\n<!-- Generated by graphviz version 2.43.0 (0)\n -->\n<!-- Title: %3 Pages: 1 -->\n<svg width=\"461pt\" height=\"622pt\"\n viewBox=\"0.00 0.00 461.00 622.00\" xmlns=\"http://www.w3.org/2000/svg\" xmlns:xlink=\"http://www.w3.org/1999/xlink\">\n<g id=\"graph0\" class=\"graph\" transform=\"scale(1 1) rotate(0) translate(4 618)\">\n<title>%3</title>\n<polygon fill=\"white\" stroke=\"transparent\" points=\"-4,4 -4,-618 457,-618 457,4 -4,4\"/>\n<!-- 140251235890928 -->\n<g id=\"node1\" class=\"node\">\n<title>140251235890928</title>\n<polygon fill=\"#caff70\" stroke=\"black\" points=\"293.5,-31 239.5,-31 239.5,0 293.5,0 293.5,-31\"/>\n<text text-anchor=\"middle\" x=\"266.5\" y=\"-7\" font-family=\"monospace\" font-size=\"10.00\"> ()</text>\n</g>\n<!-- 140251238448768 -->\n<g id=\"node2\" class=\"node\">\n<title>140251238448768</title>\n<polygon fill=\"lightgrey\" stroke=\"black\" points=\"311,-86 222,-86 222,-67 311,-67 311,-86\"/>\n<text text-anchor=\"middle\" x=\"266.5\" y=\"-74\" font-family=\"monospace\" font-size=\"10.00\">AddBackward0</text>\n</g>\n<!-- 140251238448768&#45;&gt;140251235890928 -->\n<g id=\"edge27\" class=\"edge\">\n<title>140251238448768&#45;&gt;140251235890928</title>\n<path fill=\"none\" stroke=\"black\" d=\"M266.5,-66.79C266.5,-60.07 266.5,-50.4 266.5,-41.34\"/>\n<polygon fill=\"black\" stroke=\"black\" points=\"270,-41.19 266.5,-31.19 263,-41.19 270,-41.19\"/>\n</g>\n<!-- 140251238447856 -->\n<g id=\"node3\" class=\"node\">\n<title>140251238447856</title>\n<polygon fill=\"lightgrey\" stroke=\"black\" points=\"276,-141 181,-141 181,-122 276,-122 276,-141\"/>\n<text text-anchor=\"middle\" x=\"228.5\" y=\"-129\" font-family=\"monospace\" font-size=\"10.00\">MeanBackward0</text>\n</g>\n<!-- 140251238447856&#45;&gt;140251238448768 -->\n<g id=\"edge1\" class=\"edge\">\n<title>140251238447856&#45;&gt;140251238448768</title>\n<path fill=\"none\" stroke=\"black\" d=\"M234.77,-121.75C240.09,-114.34 247.86,-103.5 254.38,-94.41\"/>\n<polygon fill=\"black\" stroke=\"black\" points=\"257.36,-96.26 260.34,-86.09 251.67,-92.18 257.36,-96.26\"/>\n</g>\n<!-- 140251238443056 -->\n<g id=\"node4\" class=\"node\">\n<title>140251238443056</title>\n<polygon fill=\"lightgrey\" stroke=\"black\" points=\"256,-196 167,-196 167,-177 256,-177 256,-196\"/>\n<text text-anchor=\"middle\" x=\"211.5\" y=\"-184\" font-family=\"monospace\" font-size=\"10.00\">PowBackward0</text>\n</g>\n<!-- 140251238443056&#45;&gt;140251238447856 -->\n<g id=\"edge2\" class=\"edge\">\n<title>140251238443056&#45;&gt;140251238447856</title>\n<path fill=\"none\" stroke=\"black\" d=\"M214.31,-176.75C216.56,-169.72 219.8,-159.62 222.62,-150.84\"/>\n<polygon fill=\"black\" stroke=\"black\" points=\"226.02,-151.68 225.75,-141.09 219.36,-149.54 226.02,-151.68\"/>\n</g>\n<!-- 140251238443248 -->\n<g id=\"node5\" class=\"node\">\n<title>140251238443248</title>\n<polygon fill=\"lightgrey\" stroke=\"black\" points=\"238,-251 155,-251 155,-232 238,-232 238,-251\"/>\n<text text-anchor=\"middle\" x=\"196.5\" y=\"-239\" font-family=\"monospace\" font-size=\"10.00\">MmBackward0</text>\n</g>\n<!-- 140251238443248&#45;&gt;140251238443056 -->\n<g id=\"edge3\" class=\"edge\">\n<title>140251238443248&#45;&gt;140251238443056</title>\n<path fill=\"none\" stroke=\"black\" d=\"M198.98,-231.75C200.96,-224.72 203.82,-214.62 206.31,-205.84\"/>\n<polygon fill=\"black\" stroke=\"black\" points=\"209.71,-206.66 209.07,-196.09 202.98,-204.76 209.71,-206.66\"/>\n</g>\n<!-- 140251238440944 -->\n<g id=\"node6\" class=\"node\">\n<title>140251238440944</title>\n<polygon fill=\"lightgrey\" stroke=\"black\" points=\"268,-306 125,-306 125,-287 268,-287 268,-306\"/>\n<text text-anchor=\"middle\" x=\"196.5\" y=\"-294\" font-family=\"monospace\" font-size=\"10.00\">TanhBackwardBackward0</text>\n</g>\n<!-- 140251238440944&#45;&gt;140251238443248 -->\n<g id=\"edge4\" class=\"edge\">\n<title>140251238440944&#45;&gt;140251238443248</title>\n<path fill=\"none\" stroke=\"black\" d=\"M196.5,-286.75C196.5,-279.8 196.5,-269.85 196.5,-261.13\"/>\n<polygon fill=\"black\" stroke=\"black\" points=\"200,-261.09 196.5,-251.09 193,-261.09 200,-261.09\"/>\n</g>\n<!-- 140251238443584 -->\n<g id=\"node7\" class=\"node\">\n<title>140251238443584</title>\n<polygon fill=\"lightgrey\" stroke=\"black\" points=\"162,-361 79,-361 79,-342 162,-342 162,-361\"/>\n<text text-anchor=\"middle\" x=\"120.5\" y=\"-349\" font-family=\"monospace\" font-size=\"10.00\">MmBackward0</text>\n</g>\n<!-- 140251238443584&#45;&gt;140251238440944 -->\n<g id=\"edge5\" class=\"edge\">\n<title>140251238443584&#45;&gt;140251238440944</title>\n<path fill=\"none\" stroke=\"black\" d=\"M132.71,-341.98C144.28,-333.92 161.88,-321.65 175.66,-312.03\"/>\n<polygon fill=\"black\" stroke=\"black\" points=\"177.87,-314.76 184.07,-306.17 173.86,-309.02 177.87,-314.76\"/>\n</g>\n<!-- 140251238443872 -->\n<g id=\"node8\" class=\"node\">\n<title>140251238443872</title>\n<polygon fill=\"lightgrey\" stroke=\"black\" points=\"303,-421.5 226,-421.5 226,-402.5 303,-402.5 303,-421.5\"/>\n<text text-anchor=\"middle\" x=\"264.5\" y=\"-409.5\" font-family=\"monospace\" font-size=\"10.00\">TBackward0</text>\n</g>\n<!-- 140251238443872&#45;&gt;140251238443584 -->\n<g id=\"edge6\" class=\"edge\">\n<title>140251238443872&#45;&gt;140251238443584</title>\n<path fill=\"none\" stroke=\"black\" d=\"M243.56,-402.49C219.14,-392.57 178.57,-376.09 150.73,-364.78\"/>\n<polygon fill=\"black\" stroke=\"black\" points=\"152.05,-361.54 141.46,-361.02 149.41,-368.02 152.05,-361.54\"/>\n</g>\n<!-- 140251238444064 -->\n<g id=\"node9\" class=\"node\">\n<title>140251238444064</title>\n<polygon fill=\"lightgrey\" stroke=\"black\" points=\"441,-482 364,-482 364,-463 441,-463 441,-482\"/>\n<text text-anchor=\"middle\" x=\"402.5\" y=\"-470\" font-family=\"monospace\" font-size=\"10.00\">TBackward0</text>\n</g>\n<!-- 140251238444064&#45;&gt;140251238443872 -->\n<g id=\"edge7\" class=\"edge\">\n<title>140251238444064&#45;&gt;140251238443872</title>\n<path fill=\"none\" stroke=\"black\" d=\"M382.43,-462.99C359.13,-453.12 320.49,-436.73 293.82,-425.43\"/>\n<polygon fill=\"black\" stroke=\"black\" points=\"295.16,-422.2 284.59,-421.52 292.43,-428.64 295.16,-422.2\"/>\n</g>\n<!-- 140251238443152 -->\n<g id=\"node23\" class=\"node\">\n<title>140251238443152</title>\n<polygon fill=\"lightgrey\" stroke=\"black\" points=\"390,-306 289,-306 289,-287 390,-287 390,-306\"/>\n<text text-anchor=\"middle\" x=\"339.5\" y=\"-294\" font-family=\"monospace\" font-size=\"10.00\">AddmmBackward0</text>\n</g>\n<!-- 140251238444064&#45;&gt;140251238443152 -->\n<g id=\"edge26\" class=\"edge\">\n<title>140251238444064&#45;&gt;140251238443152</title>\n<path fill=\"none\" stroke=\"black\" d=\"M405.11,-462.68C411.07,-440.78 423.59,-382.73 402.5,-342 395.46,-328.41 382.16,-318.09 369.58,-310.82\"/>\n<polygon fill=\"black\" stroke=\"black\" points=\"371.12,-307.68 360.65,-306.07 367.83,-313.86 371.12,-307.68\"/>\n</g>\n<!-- 140251238447040 -->\n<g id=\"node10\" class=\"node\">\n<title>140251238447040</title>\n<polygon fill=\"lightgrey\" stroke=\"black\" points=\"453,-542.5 352,-542.5 352,-523.5 453,-523.5 453,-542.5\"/>\n<text text-anchor=\"middle\" x=\"402.5\" y=\"-530.5\" font-family=\"monospace\" font-size=\"10.00\">AccumulateGrad</text>\n</g>\n<!-- 140251238447040&#45;&gt;140251238444064 -->\n<g id=\"edge8\" class=\"edge\">\n<title>140251238447040&#45;&gt;140251238444064</title>\n<path fill=\"none\" stroke=\"black\" d=\"M402.5,-523.37C402.5,-515.25 402.5,-502.81 402.5,-492.39\"/>\n<polygon fill=\"black\" stroke=\"black\" points=\"406,-492.17 402.5,-482.17 399,-492.17 406,-492.17\"/>\n</g>\n<!-- 140251237965056 -->\n<g id=\"node11\" class=\"node\">\n<title>140251237965056</title>\n<polygon fill=\"lightblue\" stroke=\"black\" points=\"438,-614 367,-614 367,-584 438,-584 438,-614\"/>\n<text text-anchor=\"middle\" x=\"402.5\" y=\"-602\" font-family=\"monospace\" font-size=\"10.00\">W1.weight</text>\n<text text-anchor=\"middle\" x=\"402.5\" y=\"-591\" font-family=\"monospace\" font-size=\"10.00\"> (1, 16)</text>\n</g>\n<!-- 140251237965056&#45;&gt;140251238447040 -->\n<g id=\"edge9\" class=\"edge\">\n<title>140251237965056&#45;&gt;140251238447040</title>\n<path fill=\"none\" stroke=\"black\" d=\"M402.5,-583.8C402.5,-574.7 402.5,-562.79 402.5,-552.9\"/>\n<polygon fill=\"black\" stroke=\"black\" points=\"406,-552.84 402.5,-542.84 399,-552.84 406,-552.84\"/>\n</g>\n<!-- 140251238443536 -->\n<g id=\"node12\" class=\"node\">\n<title>140251238443536</title>\n<polygon fill=\"lightgrey\" stroke=\"black\" points=\"275,-361 180,-361 180,-342 275,-342 275,-361\"/>\n<text text-anchor=\"middle\" x=\"227.5\" y=\"-349\" font-family=\"monospace\" font-size=\"10.00\">TanhBackward0</text>\n</g>\n<!-- 140251238443536&#45;&gt;140251238440944 -->\n<g id=\"edge10\" class=\"edge\">\n<title>140251238443536&#45;&gt;140251238440944</title>\n<path fill=\"none\" stroke=\"black\" d=\"M222.38,-341.75C218.14,-334.49 211.97,-323.95 206.72,-314.98\"/>\n<polygon fill=\"black\" stroke=\"black\" points=\"209.59,-312.95 201.52,-306.09 203.55,-316.49 209.59,-312.95\"/>\n</g>\n<!-- 140251238443536&#45;&gt;140251238443152 -->\n<g id=\"edge25\" class=\"edge\">\n<title>140251238443536&#45;&gt;140251238443152</title>\n<path fill=\"none\" stroke=\"black\" d=\"M245.49,-341.98C263.43,-333.5 291.22,-320.35 311.93,-310.54\"/>\n<polygon fill=\"black\" stroke=\"black\" points=\"313.64,-313.61 321.18,-306.17 310.64,-307.28 313.64,-313.61\"/>\n</g>\n<!-- 140251238444160 -->\n<g id=\"node13\" class=\"node\">\n<title>140251238444160</title>\n<polygon fill=\"lightgrey\" stroke=\"black\" points=\"208,-421.5 107,-421.5 107,-402.5 208,-402.5 208,-421.5\"/>\n<text text-anchor=\"middle\" x=\"157.5\" y=\"-409.5\" font-family=\"monospace\" font-size=\"10.00\">AddmmBackward0</text>\n</g>\n<!-- 140251238444160&#45;&gt;140251238443536 -->\n<g id=\"edge11\" class=\"edge\">\n<title>140251238444160&#45;&gt;140251238443536</title>\n<path fill=\"none\" stroke=\"black\" d=\"M167.83,-402.37C178.69,-393.3 195.99,-378.84 209.17,-367.82\"/>\n<polygon fill=\"black\" stroke=\"black\" points=\"211.7,-370.27 217.13,-361.17 207.21,-364.89 211.7,-370.27\"/>\n</g>\n<!-- 140251238441088 -->\n<g id=\"node14\" class=\"node\">\n<title>140251238441088</title>\n<polygon fill=\"lightgrey\" stroke=\"black\" points=\"208,-482 107,-482 107,-463 208,-463 208,-482\"/>\n<text text-anchor=\"middle\" x=\"157.5\" y=\"-470\" font-family=\"monospace\" font-size=\"10.00\">AccumulateGrad</text>\n</g>\n<!-- 140251238441088&#45;&gt;140251238444160 -->\n<g id=\"edge12\" class=\"edge\">\n<title>140251238441088&#45;&gt;140251238444160</title>\n<path fill=\"none\" stroke=\"black\" d=\"M157.5,-462.87C157.5,-454.75 157.5,-442.31 157.5,-431.89\"/>\n<polygon fill=\"black\" stroke=\"black\" points=\"161,-431.67 157.5,-421.67 154,-431.67 161,-431.67\"/>\n</g>\n<!-- 140251235884848 -->\n<g id=\"node15\" class=\"node\">\n<title>140251235884848</title>\n<polygon fill=\"lightblue\" stroke=\"black\" points=\"187,-548 128,-548 128,-518 187,-518 187,-548\"/>\n<text text-anchor=\"middle\" x=\"157.5\" y=\"-536\" font-family=\"monospace\" font-size=\"10.00\">W0.bias</text>\n<text text-anchor=\"middle\" x=\"157.5\" y=\"-525\" font-family=\"monospace\" font-size=\"10.00\"> (16)</text>\n</g>\n<!-- 140251235884848&#45;&gt;140251238441088 -->\n<g id=\"edge13\" class=\"edge\">\n<title>140251235884848&#45;&gt;140251238441088</title>\n<path fill=\"none\" stroke=\"black\" d=\"M157.5,-517.84C157.5,-510.21 157.5,-500.7 157.5,-492.45\"/>\n<polygon fill=\"black\" stroke=\"black\" points=\"161,-492.27 157.5,-482.27 154,-492.27 161,-492.27\"/>\n</g>\n<!-- 140251238443392 -->\n<g id=\"node16\" class=\"node\">\n<title>140251238443392</title>\n<polygon fill=\"lightgrey\" stroke=\"black\" points=\"327,-482 226,-482 226,-463 327,-463 327,-482\"/>\n<text text-anchor=\"middle\" x=\"276.5\" y=\"-470\" font-family=\"monospace\" font-size=\"10.00\">AccumulateGrad</text>\n</g>\n<!-- 140251238443392&#45;&gt;140251238444160 -->\n<g id=\"edge14\" class=\"edge\">\n<title>140251238443392&#45;&gt;140251238444160</title>\n<path fill=\"none\" stroke=\"black\" d=\"M259.2,-462.99C239.45,-453.29 206.95,-437.31 184.01,-426.03\"/>\n<polygon fill=\"black\" stroke=\"black\" points=\"185.34,-422.79 174.82,-421.52 182.25,-429.07 185.34,-422.79\"/>\n</g>\n<!-- 140251237973136 -->\n<g id=\"node17\" class=\"node\">\n<title>140251237973136</title>\n<polygon fill=\"lightblue\" stroke=\"black\" points=\"306,-548 247,-548 247,-518 306,-518 306,-548\"/>\n<text text-anchor=\"middle\" x=\"276.5\" y=\"-536\" font-family=\"monospace\" font-size=\"10.00\">x</text>\n<text text-anchor=\"middle\" x=\"276.5\" y=\"-525\" font-family=\"monospace\" font-size=\"10.00\"> (1, 8)</text>\n</g>\n<!-- 140251237973136&#45;&gt;140251238443392 -->\n<g id=\"edge15\" class=\"edge\">\n<title>140251237973136&#45;&gt;140251238443392</title>\n<path fill=\"none\" stroke=\"black\" d=\"M276.5,-517.84C276.5,-510.21 276.5,-500.7 276.5,-492.45\"/>\n<polygon fill=\"black\" stroke=\"black\" points=\"280,-492.27 276.5,-482.27 273,-492.27 280,-492.27\"/>\n</g>\n<!-- 140251238444256 -->\n<g id=\"node18\" class=\"node\">\n<title>140251238444256</title>\n<polygon fill=\"lightgrey\" stroke=\"black\" points=\"89,-482 12,-482 12,-463 89,-463 89,-482\"/>\n<text text-anchor=\"middle\" x=\"50.5\" y=\"-470\" font-family=\"monospace\" font-size=\"10.00\">TBackward0</text>\n</g>\n<!-- 140251238444256&#45;&gt;140251238444160 -->\n<g id=\"edge16\" class=\"edge\">\n<title>140251238444256&#45;&gt;140251238444160</title>\n<path fill=\"none\" stroke=\"black\" d=\"M66.29,-462.87C83.83,-453.28 112.38,-437.67 132.87,-426.47\"/>\n<polygon fill=\"black\" stroke=\"black\" points=\"134.55,-429.54 141.65,-421.67 131.19,-423.39 134.55,-429.54\"/>\n</g>\n<!-- 140251238443344 -->\n<g id=\"node21\" class=\"node\">\n<title>140251238443344</title>\n<polygon fill=\"lightgrey\" stroke=\"black\" points=\"101,-306 24,-306 24,-287 101,-287 101,-306\"/>\n<text text-anchor=\"middle\" x=\"62.5\" y=\"-294\" font-family=\"monospace\" font-size=\"10.00\">TBackward0</text>\n</g>\n<!-- 140251238444256&#45;&gt;140251238443344 -->\n<g id=\"edge20\" class=\"edge\">\n<title>140251238444256&#45;&gt;140251238443344</title>\n<path fill=\"none\" stroke=\"black\" d=\"M51.11,-462.63C52.98,-435.52 58.65,-353.32 61.22,-316.13\"/>\n<polygon fill=\"black\" stroke=\"black\" points=\"64.71,-316.36 61.9,-306.14 57.72,-315.88 64.71,-316.36\"/>\n</g>\n<!-- 140251238446032 -->\n<g id=\"node19\" class=\"node\">\n<title>140251238446032</title>\n<polygon fill=\"lightgrey\" stroke=\"black\" points=\"101,-542.5 0,-542.5 0,-523.5 101,-523.5 101,-542.5\"/>\n<text text-anchor=\"middle\" x=\"50.5\" y=\"-530.5\" font-family=\"monospace\" font-size=\"10.00\">AccumulateGrad</text>\n</g>\n<!-- 140251238446032&#45;&gt;140251238444256 -->\n<g id=\"edge17\" class=\"edge\">\n<title>140251238446032&#45;&gt;140251238444256</title>\n<path fill=\"none\" stroke=\"black\" d=\"M50.5,-523.37C50.5,-515.25 50.5,-502.81 50.5,-492.39\"/>\n<polygon fill=\"black\" stroke=\"black\" points=\"54,-492.17 50.5,-482.17 47,-492.17 54,-492.17\"/>\n</g>\n<!-- 140251235884688 -->\n<g id=\"node20\" class=\"node\">\n<title>140251235884688</title>\n<polygon fill=\"lightblue\" stroke=\"black\" points=\"86,-614 15,-614 15,-584 86,-584 86,-614\"/>\n<text text-anchor=\"middle\" x=\"50.5\" y=\"-602\" font-family=\"monospace\" font-size=\"10.00\">W0.weight</text>\n<text text-anchor=\"middle\" x=\"50.5\" y=\"-591\" font-family=\"monospace\" font-size=\"10.00\"> (16, 8)</text>\n</g>\n<!-- 140251235884688&#45;&gt;140251238446032 -->\n<g id=\"edge18\" class=\"edge\">\n<title>140251235884688&#45;&gt;140251238446032</title>\n<path fill=\"none\" stroke=\"black\" d=\"M50.5,-583.8C50.5,-574.7 50.5,-562.79 50.5,-552.9\"/>\n<polygon fill=\"black\" stroke=\"black\" points=\"54,-552.84 50.5,-542.84 47,-552.84 54,-552.84\"/>\n</g>\n<!-- 140251238443344&#45;&gt;140251238443248 -->\n<g id=\"edge19\" class=\"edge\">\n<title>140251238443344&#45;&gt;140251238443248</title>\n<path fill=\"none\" stroke=\"black\" d=\"M84.03,-286.98C105.97,-278.3 140.24,-264.75 165.19,-254.88\"/>\n<polygon fill=\"black\" stroke=\"black\" points=\"166.57,-258.1 174.58,-251.17 163.99,-251.59 166.57,-258.1\"/>\n</g>\n<!-- 140251238446752 -->\n<g id=\"node22\" class=\"node\">\n<title>140251238446752</title>\n<polygon fill=\"lightgrey\" stroke=\"black\" points=\"376,-196 281,-196 281,-177 376,-177 376,-196\"/>\n<text text-anchor=\"middle\" x=\"328.5\" y=\"-184\" font-family=\"monospace\" font-size=\"10.00\">MeanBackward0</text>\n</g>\n<!-- 140251238446752&#45;&gt;140251238448768 -->\n<g id=\"edge21\" class=\"edge\">\n<title>140251238446752&#45;&gt;140251238448768</title>\n<path fill=\"none\" stroke=\"black\" d=\"M323.43,-176.66C313.2,-158.85 289.96,-118.37 276.55,-95.01\"/>\n<polygon fill=\"black\" stroke=\"black\" points=\"279.48,-93.09 271.47,-86.16 273.41,-96.57 279.48,-93.09\"/>\n</g>\n<!-- 140251238443152&#45;&gt;140251238446752 -->\n<g id=\"edge22\" class=\"edge\">\n<title>140251238443152&#45;&gt;140251238446752</title>\n<path fill=\"none\" stroke=\"black\" d=\"M338.6,-286.66C336.82,-269.17 332.81,-229.8 330.41,-206.27\"/>\n<polygon fill=\"black\" stroke=\"black\" points=\"333.88,-205.75 329.38,-196.16 326.91,-206.46 333.88,-205.75\"/>\n</g>\n<!-- 140251238440800 -->\n<g id=\"node24\" class=\"node\">\n<title>140251238440800</title>\n<polygon fill=\"lightgrey\" stroke=\"black\" points=\"394,-361 293,-361 293,-342 394,-342 394,-361\"/>\n<text text-anchor=\"middle\" x=\"343.5\" y=\"-349\" font-family=\"monospace\" font-size=\"10.00\">AccumulateGrad</text>\n</g>\n<!-- 140251238440800&#45;&gt;140251238443152 -->\n<g id=\"edge23\" class=\"edge\">\n<title>140251238440800&#45;&gt;140251238443152</title>\n<path fill=\"none\" stroke=\"black\" d=\"M342.84,-341.75C342.32,-334.8 341.56,-324.85 340.91,-316.13\"/>\n<polygon fill=\"black\" stroke=\"black\" points=\"344.39,-315.8 340.15,-306.09 337.41,-316.32 344.39,-315.8\"/>\n</g>\n<!-- 140251235884768 -->\n<g id=\"node25\" class=\"node\">\n<title>140251235884768</title>\n<polygon fill=\"lightblue\" stroke=\"black\" points=\"380,-427 321,-427 321,-397 380,-397 380,-427\"/>\n<text text-anchor=\"middle\" x=\"350.5\" y=\"-415\" font-family=\"monospace\" font-size=\"10.00\">W1.bias</text>\n<text text-anchor=\"middle\" x=\"350.5\" y=\"-404\" font-family=\"monospace\" font-size=\"10.00\"> (1)</text>\n</g>\n<!-- 140251235884768&#45;&gt;140251238440800 -->\n<g id=\"edge24\" class=\"edge\">\n<title>140251235884768&#45;&gt;140251238440800</title>\n<path fill=\"none\" stroke=\"black\" d=\"M348.81,-396.84C347.89,-389.21 346.76,-379.7 345.77,-371.45\"/>\n<polygon fill=\"black\" stroke=\"black\" points=\"349.21,-370.78 344.55,-361.27 342.26,-371.61 349.21,-370.78\"/>\n</g>\n</g>\n</svg>\n",
            "text/plain": [
              "<graphviz.graphs.Digraph at 0x7f8ec93f23e0>"
            ]
          },
          "metadata": {},
          "execution_count": 12
        }
      ]
    },
    {
      "cell_type": "markdown",
      "metadata": {
        "id": "mRB5n4SgVjzA"
      },
      "source": [
        "In a NN, parameters that don't compute gradients are usually called **frozen parameters**.\n",
        "It is useful to \"freeze\" part of your model if you know in advance that you won't need the gradients of those parameters\n",
        "(this offers some performance benefits by reducing autograd computations).\n",
        "\n",
        "In finetuning, we freeze most of the model and typically only modify the classifier layers to make predictions on new labels.\n",
        "Let's walk through a small example to demonstrate this. As before, we load a pretrained resnet18 model, and freeze all the parameters.\n",
        "\n"
      ]
    },
    {
      "cell_type": "code",
      "execution_count": null,
      "metadata": {
        "id": "stDq8PT4VjzA"
      },
      "outputs": [],
      "source": [
        "from torch import nn, optim\n",
        "\n",
        "model = resnet18(weights=ResNet18_Weights.DEFAULT)\n",
        "\n",
        "# Freeze all the parameters in the network\n",
        "for param in model.parameters():\n",
        "    param.requires_grad = False"
      ]
    },
    {
      "cell_type": "markdown",
      "metadata": {
        "id": "QPEys_NfVjzA"
      },
      "source": [
        "Let's say we want to finetune the model on a new dataset with 10 labels.\n",
        "In resnet, the classifier is the last linear layer ``model.fc``.\n",
        "We can simply replace it with a new linear layer (unfrozen by default)\n",
        "that acts as our classifier.\n",
        "\n"
      ]
    },
    {
      "cell_type": "code",
      "execution_count": null,
      "metadata": {
        "id": "MCVf4uKVVjzA"
      },
      "outputs": [],
      "source": [
        "model.fc = nn.Linear(512, 10)"
      ]
    },
    {
      "cell_type": "markdown",
      "metadata": {
        "id": "j8eocylYVjzB"
      },
      "source": [
        "Now all parameters in the model, except the parameters of ``model.fc``, are frozen.\n",
        "The only parameters that compute gradients are the weights and bias of ``model.fc``.\n",
        "\n"
      ]
    },
    {
      "cell_type": "code",
      "execution_count": null,
      "metadata": {
        "id": "E5hUoXPjVjzB"
      },
      "outputs": [],
      "source": [
        "# Optimize only the classifier\n",
        "optimizer = optim.SGD(model.parameters(), lr=1e-2, momentum=0.9)"
      ]
    },
    {
      "cell_type": "markdown",
      "metadata": {
        "id": "XCcMSoJzVjzC"
      },
      "source": [
        "Notice although we register all the parameters in the optimizer,\n",
        "the only parameters that are computing gradients (and hence updated in gradient descent)\n",
        "are the weights and bias of the classifier.\n",
        "\n",
        "The same exclusionary functionality is available as a context manager in\n",
        "[torch.no_grad()](https://pytorch.org/docs/stable/generated/torch.no_grad.html)_\n",
        "\n",
        "\n"
      ]
    },
    {
      "cell_type": "code",
      "source": [
        "x = torch.randn(5, requires_grad=True)\n",
        "y = x.pow(2)\n",
        "print(x.equal(y.grad_fn._saved_self))  # True\n",
        "print(x is y.grad_fn._saved_self)  # True"
      ],
      "metadata": {
        "colab": {
          "base_uri": "https://localhost:8080/"
        },
        "id": "nzGR8yLAfrQM",
        "outputId": "88a95eeb-939d-4cc0-99ef-03e074ac2274"
      },
      "execution_count": null,
      "outputs": [
        {
          "output_type": "stream",
          "name": "stdout",
          "text": [
            "True\n",
            "True\n"
          ]
        }
      ]
    },
    {
      "cell_type": "code",
      "source": [
        "x = torch.randn(5, requires_grad=True)\n",
        "y = x.exp()\n",
        "print(y.equal(y.grad_fn._saved_result))  # True\n",
        "print(y is y.grad_fn._saved_result)  # False"
      ],
      "metadata": {
        "colab": {
          "base_uri": "https://localhost:8080/"
        },
        "id": "K8u0Jlzqf0WH",
        "outputId": "784e7623-e1f2-4c97-e7f4-8a589e792b20"
      },
      "execution_count": null,
      "outputs": [
        {
          "output_type": "stream",
          "name": "stdout",
          "text": [
            "True\n",
            "False\n"
          ]
        }
      ]
    },
    {
      "cell_type": "code",
      "source": [
        "# Define a train function to be used in different threads\n",
        "import threading\n",
        "\n",
        "def train_fn():\n",
        "    x = torch.ones(5, 5, requires_grad=True)\n",
        "    # forward\n",
        "    y = (x + 3) * (x + 4) * 0.5\n",
        "    # backward\n",
        "    y.sum().backward()\n",
        "    # potential optimizer update\n",
        "\n",
        "\n",
        "# User write their own threading code to drive the train_fn\n",
        "threads = []\n",
        "for _ in range(10):\n",
        "    p = threading.Thread(target=train_fn, args=())\n",
        "    p.start()\n",
        "    threads.append(p)\n",
        "\n",
        "for p in threads:\n",
        "    p.join()\n",
        "\n",
        "print(p)"
      ],
      "metadata": {
        "colab": {
          "base_uri": "https://localhost:8080/"
        },
        "id": "F3fFYza-f1JS",
        "outputId": "3a499b36-78ff-4b08-c090-14f20a1acc2d"
      },
      "execution_count": null,
      "outputs": [
        {
          "output_type": "stream",
          "name": "stdout",
          "text": [
            "<Thread(Thread-40 (train_fn), stopped 140352995669760)>\n"
          ]
        }
      ]
    },
    {
      "cell_type": "markdown",
      "metadata": {
        "id": "kFU-cQTlVjzC"
      },
      "source": [
        "--------------\n",
        "\n",
        "\n"
      ]
    }
  ],
  "metadata": {
    "kernelspec": {
      "display_name": "Python 3",
      "language": "python",
      "name": "python3"
    },
    "language_info": {
      "codemirror_mode": {
        "name": "ipython",
        "version": 3
      },
      "file_extension": ".py",
      "mimetype": "text/x-python",
      "name": "python",
      "nbconvert_exporter": "python",
      "pygments_lexer": "ipython3",
      "version": "3.10.10"
    },
    "colab": {
      "provenance": []
    }
  },
  "nbformat": 4,
  "nbformat_minor": 0
}